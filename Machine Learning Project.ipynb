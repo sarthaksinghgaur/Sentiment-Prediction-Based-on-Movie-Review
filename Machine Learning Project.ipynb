{
 "cells": [
  {
   "cell_type": "markdown",
   "id": "3e3c5cf6",
   "metadata": {
    "papermill": {
     "duration": 0.01848,
     "end_time": "2023-08-18T08:54:32.458170",
     "exception": false,
     "start_time": "2023-08-18T08:54:32.439690",
     "status": "completed"
    },
    "tags": []
   },
   "source": [
    "# IIT MARDAS\n",
    "# MACHINE LEARNING PRACTICE PROJECT\n",
    "## SARTHAK SINGH GAUR\n",
    "## 21F3001936\n",
    "### CS2008P"
   ]
  },
  {
   "cell_type": "code",
   "execution_count": 1,
   "id": "67f772e9",
   "metadata": {
    "_cell_guid": "b1076dfc-b9ad-4769-8c92-a6c4dae69d19",
    "_uuid": "8f2839f25d086af736a60e9eeb907d3b93b6e0e5",
    "execution": {
     "iopub.execute_input": "2023-08-18T08:54:32.496001Z",
     "iopub.status.busy": "2023-08-18T08:54:32.495541Z",
     "iopub.status.idle": "2023-08-18T08:54:32.509377Z",
     "shell.execute_reply": "2023-08-18T08:54:32.508063Z"
    },
    "papermill": {
     "duration": 0.035779,
     "end_time": "2023-08-18T08:54:32.512061",
     "exception": false,
     "start_time": "2023-08-18T08:54:32.476282",
     "status": "completed"
    },
    "tags": []
   },
   "outputs": [
    {
     "name": "stdout",
     "output_type": "stream",
     "text": [
      "/kaggle/input/sentiment-prediction-on-movie-reviews/movies.csv\n",
      "/kaggle/input/sentiment-prediction-on-movie-reviews/sample.csv\n",
      "/kaggle/input/sentiment-prediction-on-movie-reviews/train.csv\n",
      "/kaggle/input/sentiment-prediction-on-movie-reviews/test.csv\n"
     ]
    }
   ],
   "source": [
    "import numpy as np # linear algebra\n",
    "import pandas as pd # data processing, CSV file I/O (e.g. pd.read_csv)\n",
    "\n",
    "import os\n",
    "for dirname, _, filenames in os.walk('/kaggle/input'):\n",
    "    for filename in filenames:\n",
    "        print(os.path.join(dirname, filename))"
   ]
  },
  {
   "cell_type": "markdown",
   "id": "c0a1818b",
   "metadata": {
    "papermill": {
     "duration": 0.018248,
     "end_time": "2023-08-18T08:54:32.548651",
     "exception": false,
     "start_time": "2023-08-18T08:54:32.530403",
     "status": "completed"
    },
    "tags": []
   },
   "source": [
    "# DATA LOADING"
   ]
  },
  {
   "cell_type": "code",
   "execution_count": 2,
   "id": "b0899b54",
   "metadata": {
    "execution": {
     "iopub.execute_input": "2023-08-18T08:54:32.588215Z",
     "iopub.status.busy": "2023-08-18T08:54:32.587380Z",
     "iopub.status.idle": "2023-08-18T08:54:34.378686Z",
     "shell.execute_reply": "2023-08-18T08:54:34.377610Z"
    },
    "papermill": {
     "duration": 1.814836,
     "end_time": "2023-08-18T08:54:34.381567",
     "exception": false,
     "start_time": "2023-08-18T08:54:32.566731",
     "status": "completed"
    },
    "tags": []
   },
   "outputs": [],
   "source": [
    "train= pd.read_csv('/kaggle/input/sentiment-prediction-on-movie-reviews/train.csv')\n",
    "test= pd.read_csv('/kaggle/input/sentiment-prediction-on-movie-reviews/test.csv')"
   ]
  },
  {
   "cell_type": "markdown",
   "id": "b0762d02",
   "metadata": {
    "papermill": {
     "duration": 0.017981,
     "end_time": "2023-08-18T08:54:34.417669",
     "exception": false,
     "start_time": "2023-08-18T08:54:34.399688",
     "status": "completed"
    },
    "tags": []
   },
   "source": [
    "# EXPLORATORY DATA ANALYSIS"
   ]
  },
  {
   "cell_type": "code",
   "execution_count": 3,
   "id": "8f1be821",
   "metadata": {
    "execution": {
     "iopub.execute_input": "2023-08-18T08:54:34.457405Z",
     "iopub.status.busy": "2023-08-18T08:54:34.456498Z",
     "iopub.status.idle": "2023-08-18T08:54:34.465476Z",
     "shell.execute_reply": "2023-08-18T08:54:34.464367Z"
    },
    "papermill": {
     "duration": 0.032271,
     "end_time": "2023-08-18T08:54:34.468061",
     "exception": false,
     "start_time": "2023-08-18T08:54:34.435790",
     "status": "completed"
    },
    "tags": []
   },
   "outputs": [
    {
     "data": {
      "text/plain": [
       "(162758, 5)"
      ]
     },
     "execution_count": 3,
     "metadata": {},
     "output_type": "execute_result"
    }
   ],
   "source": [
    "train.shape"
   ]
  },
  {
   "cell_type": "code",
   "execution_count": 4,
   "id": "145a5fa2",
   "metadata": {
    "execution": {
     "iopub.execute_input": "2023-08-18T08:54:34.507295Z",
     "iopub.status.busy": "2023-08-18T08:54:34.506795Z",
     "iopub.status.idle": "2023-08-18T08:54:34.540495Z",
     "shell.execute_reply": "2023-08-18T08:54:34.539201Z"
    },
    "papermill": {
     "duration": 0.056529,
     "end_time": "2023-08-18T08:54:34.543288",
     "exception": false,
     "start_time": "2023-08-18T08:54:34.486759",
     "status": "completed"
    },
    "tags": []
   },
   "outputs": [
    {
     "data": {
      "text/html": [
       "<div>\n",
       "<style scoped>\n",
       "    .dataframe tbody tr th:only-of-type {\n",
       "        vertical-align: middle;\n",
       "    }\n",
       "\n",
       "    .dataframe tbody tr th {\n",
       "        vertical-align: top;\n",
       "    }\n",
       "\n",
       "    .dataframe thead th {\n",
       "        text-align: right;\n",
       "    }\n",
       "</style>\n",
       "<table border=\"1\" class=\"dataframe\">\n",
       "  <thead>\n",
       "    <tr style=\"text-align: right;\">\n",
       "      <th></th>\n",
       "      <th>movieid</th>\n",
       "      <th>reviewerName</th>\n",
       "      <th>isFrequentReviewer</th>\n",
       "      <th>reviewText</th>\n",
       "      <th>sentiment</th>\n",
       "    </tr>\n",
       "  </thead>\n",
       "  <tbody>\n",
       "    <tr>\n",
       "      <th>0</th>\n",
       "      <td>marvelous_pirate</td>\n",
       "      <td>Benjamin Henry</td>\n",
       "      <td>False</td>\n",
       "      <td>Henry Selick’s first movie since 2009’s Corali...</td>\n",
       "      <td>POSITIVE</td>\n",
       "    </tr>\n",
       "    <tr>\n",
       "      <th>1</th>\n",
       "      <td>tony_montana_frodo_baggins_v_rocky_balboa</td>\n",
       "      <td>Felicia Lopez</td>\n",
       "      <td>False</td>\n",
       "      <td>With a cast that reads like the Vogue Oscar pa...</td>\n",
       "      <td>NEGATIVE</td>\n",
       "    </tr>\n",
       "    <tr>\n",
       "      <th>2</th>\n",
       "      <td>darth_vader_katniss_everdeen_sorcerer_donnie_d...</td>\n",
       "      <td>Mr. Charles Burgess</td>\n",
       "      <td>True</td>\n",
       "      <td>Creed II does not give us anything but another...</td>\n",
       "      <td>POSITIVE</td>\n",
       "    </tr>\n",
       "    <tr>\n",
       "      <th>3</th>\n",
       "      <td>lara_croft_glimmer</td>\n",
       "      <td>Ryan Barrett</td>\n",
       "      <td>False</td>\n",
       "      <td>I know what you're thinking, but this is no Li...</td>\n",
       "      <td>POSITIVE</td>\n",
       "    </tr>\n",
       "    <tr>\n",
       "      <th>4</th>\n",
       "      <td>jason_bourne_surreal_the_terminator_indiana_jones</td>\n",
       "      <td>Alexander Glover</td>\n",
       "      <td>False</td>\n",
       "      <td>Director Fernando Meirelles tells the story wi...</td>\n",
       "      <td>POSITIVE</td>\n",
       "    </tr>\n",
       "  </tbody>\n",
       "</table>\n",
       "</div>"
      ],
      "text/plain": [
       "                                             movieid         reviewerName  \\\n",
       "0                                   marvelous_pirate       Benjamin Henry   \n",
       "1          tony_montana_frodo_baggins_v_rocky_balboa        Felicia Lopez   \n",
       "2  darth_vader_katniss_everdeen_sorcerer_donnie_d...  Mr. Charles Burgess   \n",
       "3                                 lara_croft_glimmer         Ryan Barrett   \n",
       "4  jason_bourne_surreal_the_terminator_indiana_jones     Alexander Glover   \n",
       "\n",
       "   isFrequentReviewer                                         reviewText  \\\n",
       "0               False  Henry Selick’s first movie since 2009’s Corali...   \n",
       "1               False  With a cast that reads like the Vogue Oscar pa...   \n",
       "2                True  Creed II does not give us anything but another...   \n",
       "3               False  I know what you're thinking, but this is no Li...   \n",
       "4               False  Director Fernando Meirelles tells the story wi...   \n",
       "\n",
       "  sentiment  \n",
       "0  POSITIVE  \n",
       "1  NEGATIVE  \n",
       "2  POSITIVE  \n",
       "3  POSITIVE  \n",
       "4  POSITIVE  "
      ]
     },
     "execution_count": 4,
     "metadata": {},
     "output_type": "execute_result"
    }
   ],
   "source": [
    "train.head()"
   ]
  },
  {
   "cell_type": "code",
   "execution_count": 5,
   "id": "a56db3ee",
   "metadata": {
    "execution": {
     "iopub.execute_input": "2023-08-18T08:54:34.582998Z",
     "iopub.status.busy": "2023-08-18T08:54:34.582526Z",
     "iopub.status.idle": "2023-08-18T08:54:34.601936Z",
     "shell.execute_reply": "2023-08-18T08:54:34.600521Z"
    },
    "papermill": {
     "duration": 0.042465,
     "end_time": "2023-08-18T08:54:34.604751",
     "exception": false,
     "start_time": "2023-08-18T08:54:34.562286",
     "status": "completed"
    },
    "tags": []
   },
   "outputs": [
    {
     "data": {
      "text/plain": [
       "<bound method DataFrame.info of                                                   movieid  \\\n",
       "0                                        marvelous_pirate   \n",
       "1               tony_montana_frodo_baggins_v_rocky_balboa   \n",
       "2       darth_vader_katniss_everdeen_sorcerer_donnie_d...   \n",
       "3                                      lara_croft_glimmer   \n",
       "4       jason_bourne_surreal_the_terminator_indiana_jones   \n",
       "...                                                   ...   \n",
       "162753  the_joker_ethereal_captain_jack_sparrow_fantastic   \n",
       "162754  e.t._hannibal_lecter_vito_corleone_katniss_eve...   \n",
       "162755                     infinite_enigma_luke_skywalker   \n",
       "162756                  emerald_oracle_iron_man_wolverine   \n",
       "162757         james_t._kirk_phenomenal_zephyr_chronicles   \n",
       "\n",
       "               reviewerName  isFrequentReviewer  \\\n",
       "0            Benjamin Henry               False   \n",
       "1             Felicia Lopez               False   \n",
       "2       Mr. Charles Burgess                True   \n",
       "3              Ryan Barrett               False   \n",
       "4          Alexander Glover               False   \n",
       "...                     ...                 ...   \n",
       "162753        Danny Mueller               False   \n",
       "162754     Jennifer Clayton                True   \n",
       "162755         Bryan Wilson               False   \n",
       "162756          Erik Parker               False   \n",
       "162757         Howard Evans               False   \n",
       "\n",
       "                                               reviewText sentiment  \n",
       "0       Henry Selick’s first movie since 2009’s Corali...  POSITIVE  \n",
       "1       With a cast that reads like the Vogue Oscar pa...  NEGATIVE  \n",
       "2       Creed II does not give us anything but another...  POSITIVE  \n",
       "3       I know what you're thinking, but this is no Li...  POSITIVE  \n",
       "4       Director Fernando Meirelles tells the story wi...  POSITIVE  \n",
       "...                                                   ...       ...  \n",
       "162753  A top-notch thriller with genuine surprises an...  POSITIVE  \n",
       "162754  Some people find Derek Zoolander funny and lik...  NEGATIVE  \n",
       "162755  This fun, gentle comedy focuses mainly on them...  POSITIVE  \n",
       "162756  The film is rescued by a strong third act, but...  NEGATIVE  \n",
       "162757          A peerless exercise in stimulus response.  POSITIVE  \n",
       "\n",
       "[162758 rows x 5 columns]>"
      ]
     },
     "execution_count": 5,
     "metadata": {},
     "output_type": "execute_result"
    }
   ],
   "source": [
    "train.info"
   ]
  },
  {
   "cell_type": "code",
   "execution_count": 6,
   "id": "67e9c555",
   "metadata": {
    "execution": {
     "iopub.execute_input": "2023-08-18T08:54:34.646367Z",
     "iopub.status.busy": "2023-08-18T08:54:34.644914Z",
     "iopub.status.idle": "2023-08-18T08:54:34.658444Z",
     "shell.execute_reply": "2023-08-18T08:54:34.657096Z"
    },
    "papermill": {
     "duration": 0.037027,
     "end_time": "2023-08-18T08:54:34.660957",
     "exception": false,
     "start_time": "2023-08-18T08:54:34.623930",
     "status": "completed"
    },
    "tags": []
   },
   "outputs": [
    {
     "data": {
      "text/plain": [
       "<bound method NDFrame.describe of                                                   movieid  \\\n",
       "0                                        marvelous_pirate   \n",
       "1               tony_montana_frodo_baggins_v_rocky_balboa   \n",
       "2       darth_vader_katniss_everdeen_sorcerer_donnie_d...   \n",
       "3                                      lara_croft_glimmer   \n",
       "4       jason_bourne_surreal_the_terminator_indiana_jones   \n",
       "...                                                   ...   \n",
       "162753  the_joker_ethereal_captain_jack_sparrow_fantastic   \n",
       "162754  e.t._hannibal_lecter_vito_corleone_katniss_eve...   \n",
       "162755                     infinite_enigma_luke_skywalker   \n",
       "162756                  emerald_oracle_iron_man_wolverine   \n",
       "162757         james_t._kirk_phenomenal_zephyr_chronicles   \n",
       "\n",
       "               reviewerName  isFrequentReviewer  \\\n",
       "0            Benjamin Henry               False   \n",
       "1             Felicia Lopez               False   \n",
       "2       Mr. Charles Burgess                True   \n",
       "3              Ryan Barrett               False   \n",
       "4          Alexander Glover               False   \n",
       "...                     ...                 ...   \n",
       "162753        Danny Mueller               False   \n",
       "162754     Jennifer Clayton                True   \n",
       "162755         Bryan Wilson               False   \n",
       "162756          Erik Parker               False   \n",
       "162757         Howard Evans               False   \n",
       "\n",
       "                                               reviewText sentiment  \n",
       "0       Henry Selick’s first movie since 2009’s Corali...  POSITIVE  \n",
       "1       With a cast that reads like the Vogue Oscar pa...  NEGATIVE  \n",
       "2       Creed II does not give us anything but another...  POSITIVE  \n",
       "3       I know what you're thinking, but this is no Li...  POSITIVE  \n",
       "4       Director Fernando Meirelles tells the story wi...  POSITIVE  \n",
       "...                                                   ...       ...  \n",
       "162753  A top-notch thriller with genuine surprises an...  POSITIVE  \n",
       "162754  Some people find Derek Zoolander funny and lik...  NEGATIVE  \n",
       "162755  This fun, gentle comedy focuses mainly on them...  POSITIVE  \n",
       "162756  The film is rescued by a strong third act, but...  NEGATIVE  \n",
       "162757          A peerless exercise in stimulus response.  POSITIVE  \n",
       "\n",
       "[162758 rows x 5 columns]>"
      ]
     },
     "execution_count": 6,
     "metadata": {},
     "output_type": "execute_result"
    }
   ],
   "source": [
    "train.describe"
   ]
  },
  {
   "cell_type": "code",
   "execution_count": 7,
   "id": "ab680589",
   "metadata": {
    "execution": {
     "iopub.execute_input": "2023-08-18T08:54:34.701954Z",
     "iopub.status.busy": "2023-08-18T08:54:34.701499Z",
     "iopub.status.idle": "2023-08-18T08:54:34.708450Z",
     "shell.execute_reply": "2023-08-18T08:54:34.707292Z"
    },
    "papermill": {
     "duration": 0.030666,
     "end_time": "2023-08-18T08:54:34.710810",
     "exception": false,
     "start_time": "2023-08-18T08:54:34.680144",
     "status": "completed"
    },
    "tags": []
   },
   "outputs": [
    {
     "data": {
      "text/plain": [
       "(55315, 4)"
      ]
     },
     "execution_count": 7,
     "metadata": {},
     "output_type": "execute_result"
    }
   ],
   "source": [
    "test.shape"
   ]
  },
  {
   "cell_type": "markdown",
   "id": "5873e85e",
   "metadata": {
    "papermill": {
     "duration": 0.018811,
     "end_time": "2023-08-18T08:54:34.749097",
     "exception": false,
     "start_time": "2023-08-18T08:54:34.730286",
     "status": "completed"
    },
    "tags": []
   },
   "source": [
    "# DATA PREPROCESSING"
   ]
  },
  {
   "cell_type": "code",
   "execution_count": 8,
   "id": "334a1747",
   "metadata": {
    "execution": {
     "iopub.execute_input": "2023-08-18T08:54:34.790800Z",
     "iopub.status.busy": "2023-08-18T08:54:34.790341Z",
     "iopub.status.idle": "2023-08-18T08:54:36.317028Z",
     "shell.execute_reply": "2023-08-18T08:54:36.315299Z"
    },
    "papermill": {
     "duration": 1.551779,
     "end_time": "2023-08-18T08:54:36.320015",
     "exception": false,
     "start_time": "2023-08-18T08:54:34.768236",
     "status": "completed"
    },
    "tags": []
   },
   "outputs": [],
   "source": [
    "from sklearn.preprocessing import LabelEncoder"
   ]
  },
  {
   "cell_type": "code",
   "execution_count": 9,
   "id": "72d93ccd",
   "metadata": {
    "execution": {
     "iopub.execute_input": "2023-08-18T08:54:36.364058Z",
     "iopub.status.busy": "2023-08-18T08:54:36.363550Z",
     "iopub.status.idle": "2023-08-18T08:54:36.483586Z",
     "shell.execute_reply": "2023-08-18T08:54:36.482508Z"
    },
    "papermill": {
     "duration": 0.143981,
     "end_time": "2023-08-18T08:54:36.485864",
     "exception": false,
     "start_time": "2023-08-18T08:54:36.341883",
     "status": "completed"
    },
    "tags": []
   },
   "outputs": [
    {
     "data": {
      "text/plain": [
       "movieid                  0\n",
       "reviewerName             0\n",
       "isFrequentReviewer       0\n",
       "reviewText            6447\n",
       "sentiment                0\n",
       "dtype: int64"
      ]
     },
     "execution_count": 9,
     "metadata": {},
     "output_type": "execute_result"
    }
   ],
   "source": [
    "train.isnull().sum()"
   ]
  },
  {
   "cell_type": "code",
   "execution_count": 10,
   "id": "f9a01eb0",
   "metadata": {
    "execution": {
     "iopub.execute_input": "2023-08-18T08:54:36.527014Z",
     "iopub.status.busy": "2023-08-18T08:54:36.525846Z",
     "iopub.status.idle": "2023-08-18T08:54:36.566014Z",
     "shell.execute_reply": "2023-08-18T08:54:36.564944Z"
    },
    "papermill": {
     "duration": 0.063297,
     "end_time": "2023-08-18T08:54:36.568415",
     "exception": false,
     "start_time": "2023-08-18T08:54:36.505118",
     "status": "completed"
    },
    "tags": []
   },
   "outputs": [
    {
     "data": {
      "text/plain": [
       "movieid            0\n",
       "reviewerName       0\n",
       "isTopCritic        0\n",
       "reviewText      2510\n",
       "dtype: int64"
      ]
     },
     "execution_count": 10,
     "metadata": {},
     "output_type": "execute_result"
    }
   ],
   "source": [
    "test.isnull().sum()"
   ]
  },
  {
   "cell_type": "code",
   "execution_count": 11,
   "id": "a8f0b35f",
   "metadata": {
    "execution": {
     "iopub.execute_input": "2023-08-18T08:54:36.610183Z",
     "iopub.status.busy": "2023-08-18T08:54:36.608843Z",
     "iopub.status.idle": "2023-08-18T08:54:36.643618Z",
     "shell.execute_reply": "2023-08-18T08:54:36.642363Z"
    },
    "papermill": {
     "duration": 0.058923,
     "end_time": "2023-08-18T08:54:36.646664",
     "exception": false,
     "start_time": "2023-08-18T08:54:36.587741",
     "status": "completed"
    },
    "tags": []
   },
   "outputs": [],
   "source": [
    "#DROPPING NAN VALUES\n",
    "test['reviewText'].replace(np.nan,'None',inplace=True)\n",
    "train['reviewText'].replace(np.nan,'None',inplace=True)"
   ]
  },
  {
   "cell_type": "code",
   "execution_count": 12,
   "id": "ec0ab6ab",
   "metadata": {
    "execution": {
     "iopub.execute_input": "2023-08-18T08:54:36.687676Z",
     "iopub.status.busy": "2023-08-18T08:54:36.687167Z",
     "iopub.status.idle": "2023-08-18T08:54:36.806428Z",
     "shell.execute_reply": "2023-08-18T08:54:36.805123Z"
    },
    "papermill": {
     "duration": 0.143559,
     "end_time": "2023-08-18T08:54:36.809665",
     "exception": false,
     "start_time": "2023-08-18T08:54:36.666106",
     "status": "completed"
    },
    "tags": []
   },
   "outputs": [
    {
     "data": {
      "text/plain": [
       "movieid               0\n",
       "reviewerName          0\n",
       "isFrequentReviewer    0\n",
       "reviewText            0\n",
       "sentiment             0\n",
       "dtype: int64"
      ]
     },
     "execution_count": 12,
     "metadata": {},
     "output_type": "execute_result"
    }
   ],
   "source": [
    "train.isnull().sum()"
   ]
  },
  {
   "cell_type": "code",
   "execution_count": 13,
   "id": "67eaf2be",
   "metadata": {
    "execution": {
     "iopub.execute_input": "2023-08-18T08:54:36.851066Z",
     "iopub.status.busy": "2023-08-18T08:54:36.850548Z",
     "iopub.status.idle": "2023-08-18T08:54:36.890487Z",
     "shell.execute_reply": "2023-08-18T08:54:36.889315Z"
    },
    "papermill": {
     "duration": 0.064106,
     "end_time": "2023-08-18T08:54:36.893400",
     "exception": false,
     "start_time": "2023-08-18T08:54:36.829294",
     "status": "completed"
    },
    "tags": []
   },
   "outputs": [
    {
     "data": {
      "text/plain": [
       "movieid         0\n",
       "reviewerName    0\n",
       "isTopCritic     0\n",
       "reviewText      0\n",
       "dtype: int64"
      ]
     },
     "execution_count": 13,
     "metadata": {},
     "output_type": "execute_result"
    }
   ],
   "source": [
    "test.isnull().sum()"
   ]
  },
  {
   "cell_type": "code",
   "execution_count": 14,
   "id": "c9eeebc0",
   "metadata": {
    "execution": {
     "iopub.execute_input": "2023-08-18T08:54:36.938333Z",
     "iopub.status.busy": "2023-08-18T08:54:36.937872Z",
     "iopub.status.idle": "2023-08-18T08:54:37.094667Z",
     "shell.execute_reply": "2023-08-18T08:54:37.093115Z"
    },
    "papermill": {
     "duration": 0.181593,
     "end_time": "2023-08-18T08:54:37.097887",
     "exception": false,
     "start_time": "2023-08-18T08:54:36.916294",
     "status": "completed"
    },
    "tags": []
   },
   "outputs": [],
   "source": [
    "# DROPPING NAs\n",
    "train = train.dropna(how='any')\n",
    "test = test.dropna(how='any')"
   ]
  },
  {
   "cell_type": "code",
   "execution_count": 15,
   "id": "d890a5bb",
   "metadata": {
    "execution": {
     "iopub.execute_input": "2023-08-18T08:54:37.140876Z",
     "iopub.status.busy": "2023-08-18T08:54:37.139835Z",
     "iopub.status.idle": "2023-08-18T08:54:37.146825Z",
     "shell.execute_reply": "2023-08-18T08:54:37.145870Z"
    },
    "papermill": {
     "duration": 0.031005,
     "end_time": "2023-08-18T08:54:37.148974",
     "exception": false,
     "start_time": "2023-08-18T08:54:37.117969",
     "status": "completed"
    },
    "tags": []
   },
   "outputs": [],
   "source": [
    "# DROPPING EXTRA COLUMNS \n",
    "X = train['reviewText']\n",
    "test = test['reviewText']"
   ]
  },
  {
   "cell_type": "code",
   "execution_count": 16,
   "id": "e17647d2",
   "metadata": {
    "execution": {
     "iopub.execute_input": "2023-08-18T08:54:37.190757Z",
     "iopub.status.busy": "2023-08-18T08:54:37.190305Z",
     "iopub.status.idle": "2023-08-18T08:54:37.195519Z",
     "shell.execute_reply": "2023-08-18T08:54:37.194475Z"
    },
    "papermill": {
     "duration": 0.029182,
     "end_time": "2023-08-18T08:54:37.197807",
     "exception": false,
     "start_time": "2023-08-18T08:54:37.168625",
     "status": "completed"
    },
    "tags": []
   },
   "outputs": [],
   "source": [
    "# LABEL PREPARATION\n",
    "y = train['sentiment'].values.reshape(-1,1)\n",
    "y = y.ravel()"
   ]
  },
  {
   "cell_type": "code",
   "execution_count": 17,
   "id": "58e1773d",
   "metadata": {
    "execution": {
     "iopub.execute_input": "2023-08-18T08:54:37.241728Z",
     "iopub.status.busy": "2023-08-18T08:54:37.240711Z",
     "iopub.status.idle": "2023-08-18T08:54:37.286880Z",
     "shell.execute_reply": "2023-08-18T08:54:37.285586Z"
    },
    "papermill": {
     "duration": 0.071232,
     "end_time": "2023-08-18T08:54:37.289918",
     "exception": false,
     "start_time": "2023-08-18T08:54:37.218686",
     "status": "completed"
    },
    "tags": []
   },
   "outputs": [],
   "source": [
    "# LABEL ENCODING\n",
    "label_encoder = LabelEncoder()\n",
    "y = label_encoder.fit_transform(y)\n"
   ]
  },
  {
   "cell_type": "code",
   "execution_count": 18,
   "id": "c4ac5611",
   "metadata": {
    "execution": {
     "iopub.execute_input": "2023-08-18T08:54:37.334550Z",
     "iopub.status.busy": "2023-08-18T08:54:37.334119Z",
     "iopub.status.idle": "2023-08-18T08:54:37.343934Z",
     "shell.execute_reply": "2023-08-18T08:54:37.342591Z"
    },
    "papermill": {
     "duration": 0.034851,
     "end_time": "2023-08-18T08:54:37.346243",
     "exception": false,
     "start_time": "2023-08-18T08:54:37.311392",
     "status": "completed"
    },
    "tags": []
   },
   "outputs": [
    {
     "data": {
      "text/plain": [
       "0         Henry Selick’s first movie since 2009’s Corali...\n",
       "1         With a cast that reads like the Vogue Oscar pa...\n",
       "2         Creed II does not give us anything but another...\n",
       "3         I know what you're thinking, but this is no Li...\n",
       "4         Director Fernando Meirelles tells the story wi...\n",
       "                                ...                        \n",
       "162753    A top-notch thriller with genuine surprises an...\n",
       "162754    Some people find Derek Zoolander funny and lik...\n",
       "162755    This fun, gentle comedy focuses mainly on them...\n",
       "162756    The film is rescued by a strong third act, but...\n",
       "162757            A peerless exercise in stimulus response.\n",
       "Name: reviewText, Length: 162758, dtype: object"
      ]
     },
     "execution_count": 18,
     "metadata": {},
     "output_type": "execute_result"
    }
   ],
   "source": [
    "X"
   ]
  },
  {
   "cell_type": "code",
   "execution_count": 19,
   "id": "17033a46",
   "metadata": {
    "execution": {
     "iopub.execute_input": "2023-08-18T08:54:37.388595Z",
     "iopub.status.busy": "2023-08-18T08:54:37.388178Z",
     "iopub.status.idle": "2023-08-18T08:54:37.394267Z",
     "shell.execute_reply": "2023-08-18T08:54:37.393377Z"
    },
    "papermill": {
     "duration": 0.030499,
     "end_time": "2023-08-18T08:54:37.396527",
     "exception": false,
     "start_time": "2023-08-18T08:54:37.366028",
     "status": "completed"
    },
    "tags": []
   },
   "outputs": [
    {
     "data": {
      "text/plain": [
       "array([1, 0, 1, ..., 1, 0, 1])"
      ]
     },
     "execution_count": 19,
     "metadata": {},
     "output_type": "execute_result"
    }
   ],
   "source": [
    "y"
   ]
  },
  {
   "cell_type": "markdown",
   "id": "8c984398",
   "metadata": {
    "papermill": {
     "duration": 0.02089,
     "end_time": "2023-08-18T08:54:37.437556",
     "exception": false,
     "start_time": "2023-08-18T08:54:37.416666",
     "status": "completed"
    },
    "tags": []
   },
   "source": [
    "# FEATURE EXTRACTION AND ENGINEERING"
   ]
  },
  {
   "cell_type": "code",
   "execution_count": 20,
   "id": "45ef2a6d",
   "metadata": {
    "execution": {
     "iopub.execute_input": "2023-08-18T08:54:37.482415Z",
     "iopub.status.busy": "2023-08-18T08:54:37.481974Z",
     "iopub.status.idle": "2023-08-18T08:54:37.627240Z",
     "shell.execute_reply": "2023-08-18T08:54:37.625885Z"
    },
    "papermill": {
     "duration": 0.171971,
     "end_time": "2023-08-18T08:54:37.630874",
     "exception": false,
     "start_time": "2023-08-18T08:54:37.458903",
     "status": "completed"
    },
    "tags": []
   },
   "outputs": [],
   "source": [
    "from sklearn.feature_extraction.text import TfidfVectorizer\n",
    "from sklearn.model_selection import train_test_split"
   ]
  },
  {
   "cell_type": "code",
   "execution_count": 21,
   "id": "78e2c310",
   "metadata": {
    "execution": {
     "iopub.execute_input": "2023-08-18T08:54:37.676996Z",
     "iopub.status.busy": "2023-08-18T08:54:37.676472Z",
     "iopub.status.idle": "2023-08-18T08:54:42.963230Z",
     "shell.execute_reply": "2023-08-18T08:54:42.961827Z"
    },
    "papermill": {
     "duration": 5.313204,
     "end_time": "2023-08-18T08:54:42.966229",
     "exception": false,
     "start_time": "2023-08-18T08:54:37.653025",
     "status": "completed"
    },
    "tags": []
   },
   "outputs": [],
   "source": [
    "# USING TERM FREQUENCY INVERSE DOCUMENT FREQUENCY VECTORIZER\n",
    "tfid = TfidfVectorizer(stop_words='english')\n",
    "X_final = tfid.fit_transform(X)\n",
    "test_final = tfid.transform(test)"
   ]
  },
  {
   "cell_type": "code",
   "execution_count": 22,
   "id": "600580be",
   "metadata": {
    "execution": {
     "iopub.execute_input": "2023-08-18T08:54:43.009459Z",
     "iopub.status.busy": "2023-08-18T08:54:43.008949Z",
     "iopub.status.idle": "2023-08-18T08:54:43.016990Z",
     "shell.execute_reply": "2023-08-18T08:54:43.015824Z"
    },
    "papermill": {
     "duration": 0.03273,
     "end_time": "2023-08-18T08:54:43.019449",
     "exception": false,
     "start_time": "2023-08-18T08:54:42.986719",
     "status": "completed"
    },
    "tags": []
   },
   "outputs": [
    {
     "data": {
      "text/plain": [
       "<162758x64912 sparse matrix of type '<class 'numpy.float64'>'\n",
       "\twith 1783211 stored elements in Compressed Sparse Row format>"
      ]
     },
     "execution_count": 22,
     "metadata": {},
     "output_type": "execute_result"
    }
   ],
   "source": [
    "X_final"
   ]
  },
  {
   "cell_type": "code",
   "execution_count": 23,
   "id": "76decfcf",
   "metadata": {
    "execution": {
     "iopub.execute_input": "2023-08-18T08:54:43.062303Z",
     "iopub.status.busy": "2023-08-18T08:54:43.061808Z",
     "iopub.status.idle": "2023-08-18T08:54:43.106443Z",
     "shell.execute_reply": "2023-08-18T08:54:43.104810Z"
    },
    "papermill": {
     "duration": 0.069832,
     "end_time": "2023-08-18T08:54:43.109472",
     "exception": false,
     "start_time": "2023-08-18T08:54:43.039640",
     "status": "completed"
    },
    "tags": []
   },
   "outputs": [],
   "source": [
    "# SPLITTING TRAINING DATA INTO TRAIN AND TEST\n",
    "X_train , X_test , y_train , y_test = train_test_split(X_final,y,test_size=0.2, random_state=88)"
   ]
  },
  {
   "cell_type": "markdown",
   "id": "b80bca88",
   "metadata": {
    "papermill": {
     "duration": 0.01966,
     "end_time": "2023-08-18T08:54:43.149994",
     "exception": false,
     "start_time": "2023-08-18T08:54:43.130334",
     "status": "completed"
    },
    "tags": []
   },
   "source": [
    "# MODEL 1 : DUMMY"
   ]
  },
  {
   "cell_type": "code",
   "execution_count": 24,
   "id": "1725908a",
   "metadata": {
    "execution": {
     "iopub.execute_input": "2023-08-18T08:54:43.192782Z",
     "iopub.status.busy": "2023-08-18T08:54:43.192349Z",
     "iopub.status.idle": "2023-08-18T08:54:43.197530Z",
     "shell.execute_reply": "2023-08-18T08:54:43.196312Z"
    },
    "papermill": {
     "duration": 0.030309,
     "end_time": "2023-08-18T08:54:43.200165",
     "exception": false,
     "start_time": "2023-08-18T08:54:43.169856",
     "status": "completed"
    },
    "tags": []
   },
   "outputs": [],
   "source": [
    "# from sklearn.dummy import DummyClassifier\n",
    "# from sklearn.metrics import accuracy_score"
   ]
  },
  {
   "cell_type": "code",
   "execution_count": 25,
   "id": "254ebaf0",
   "metadata": {
    "execution": {
     "iopub.execute_input": "2023-08-18T08:54:43.242811Z",
     "iopub.status.busy": "2023-08-18T08:54:43.242359Z",
     "iopub.status.idle": "2023-08-18T08:54:43.247386Z",
     "shell.execute_reply": "2023-08-18T08:54:43.246124Z"
    },
    "papermill": {
     "duration": 0.02922,
     "end_time": "2023-08-18T08:54:43.249727",
     "exception": false,
     "start_time": "2023-08-18T08:54:43.220507",
     "status": "completed"
    },
    "tags": []
   },
   "outputs": [],
   "source": [
    "#INSTANTIATING DUMMY CLASSIFIER MODEL\n",
    "# dummy = DummyClassifier (strategy=\"most_frequent\") "
   ]
  },
  {
   "cell_type": "code",
   "execution_count": 26,
   "id": "3e604d8a",
   "metadata": {
    "execution": {
     "iopub.execute_input": "2023-08-18T08:54:43.291902Z",
     "iopub.status.busy": "2023-08-18T08:54:43.291476Z",
     "iopub.status.idle": "2023-08-18T08:54:43.296783Z",
     "shell.execute_reply": "2023-08-18T08:54:43.295548Z"
    },
    "papermill": {
     "duration": 0.029384,
     "end_time": "2023-08-18T08:54:43.299237",
     "exception": false,
     "start_time": "2023-08-18T08:54:43.269853",
     "status": "completed"
    },
    "tags": []
   },
   "outputs": [],
   "source": [
    "#TRAINING MODEL\n",
    "# dummy.fit(X_train, y_train)"
   ]
  },
  {
   "cell_type": "code",
   "execution_count": 27,
   "id": "fb8dd0e1",
   "metadata": {
    "execution": {
     "iopub.execute_input": "2023-08-18T08:54:43.342831Z",
     "iopub.status.busy": "2023-08-18T08:54:43.342382Z",
     "iopub.status.idle": "2023-08-18T08:54:43.348000Z",
     "shell.execute_reply": "2023-08-18T08:54:43.346508Z"
    },
    "papermill": {
     "duration": 0.030504,
     "end_time": "2023-08-18T08:54:43.350473",
     "exception": false,
     "start_time": "2023-08-18T08:54:43.319969",
     "status": "completed"
    },
    "tags": []
   },
   "outputs": [],
   "source": [
    "# dummy.score(X_test,y_test)"
   ]
  },
  {
   "cell_type": "markdown",
   "id": "7ccf26d5",
   "metadata": {
    "papermill": {
     "duration": 0.019918,
     "end_time": "2023-08-18T08:54:43.392758",
     "exception": false,
     "start_time": "2023-08-18T08:54:43.372840",
     "status": "completed"
    },
    "tags": []
   },
   "source": [
    "OUTPUT : 0.6679773900221184"
   ]
  },
  {
   "cell_type": "code",
   "execution_count": 28,
   "id": "03446c13",
   "metadata": {
    "execution": {
     "iopub.execute_input": "2023-08-18T08:54:43.436424Z",
     "iopub.status.busy": "2023-08-18T08:54:43.435940Z",
     "iopub.status.idle": "2023-08-18T08:54:43.441026Z",
     "shell.execute_reply": "2023-08-18T08:54:43.439736Z"
    },
    "papermill": {
     "duration": 0.02914,
     "end_time": "2023-08-18T08:54:43.443448",
     "exception": false,
     "start_time": "2023-08-18T08:54:43.414308",
     "status": "completed"
    },
    "tags": []
   },
   "outputs": [],
   "source": [
    "# y_pred_dummy=model.predict(X_test)\n",
    "# y_pred_dummy"
   ]
  },
  {
   "cell_type": "markdown",
   "id": "0e2b020c",
   "metadata": {
    "papermill": {
     "duration": 0.019946,
     "end_time": "2023-08-18T08:54:43.484405",
     "exception": false,
     "start_time": "2023-08-18T08:54:43.464459",
     "status": "completed"
    },
    "tags": []
   },
   "source": [
    "# MODEL 2 : NAIVE BAYES"
   ]
  },
  {
   "cell_type": "code",
   "execution_count": 29,
   "id": "c4931420",
   "metadata": {
    "execution": {
     "iopub.execute_input": "2023-08-18T08:54:43.526223Z",
     "iopub.status.busy": "2023-08-18T08:54:43.525750Z",
     "iopub.status.idle": "2023-08-18T08:54:43.530689Z",
     "shell.execute_reply": "2023-08-18T08:54:43.529534Z"
    },
    "papermill": {
     "duration": 0.028659,
     "end_time": "2023-08-18T08:54:43.532929",
     "exception": false,
     "start_time": "2023-08-18T08:54:43.504270",
     "status": "completed"
    },
    "tags": []
   },
   "outputs": [],
   "source": [
    "# from sklearn.naive_bayes import MultinomialNB\n",
    "# from sklearn.model_selection import GridSearchCV"
   ]
  },
  {
   "cell_type": "code",
   "execution_count": 30,
   "id": "b6cb3b00",
   "metadata": {
    "execution": {
     "iopub.execute_input": "2023-08-18T08:54:43.574892Z",
     "iopub.status.busy": "2023-08-18T08:54:43.574467Z",
     "iopub.status.idle": "2023-08-18T08:54:43.581156Z",
     "shell.execute_reply": "2023-08-18T08:54:43.580185Z"
    },
    "papermill": {
     "duration": 0.030589,
     "end_time": "2023-08-18T08:54:43.583742",
     "exception": false,
     "start_time": "2023-08-18T08:54:43.553153",
     "status": "completed"
    },
    "tags": []
   },
   "outputs": [],
   "source": [
    "#INSTANTIATING NAIVE BAYES MODEL FOR HYPERPARAMETER TUNING\n",
    "# nb = MultinomialNB()"
   ]
  },
  {
   "cell_type": "code",
   "execution_count": 31,
   "id": "372f4188",
   "metadata": {
    "execution": {
     "iopub.execute_input": "2023-08-18T08:54:43.626465Z",
     "iopub.status.busy": "2023-08-18T08:54:43.625986Z",
     "iopub.status.idle": "2023-08-18T08:54:43.630891Z",
     "shell.execute_reply": "2023-08-18T08:54:43.629622Z"
    },
    "papermill": {
     "duration": 0.029197,
     "end_time": "2023-08-18T08:54:43.633264",
     "exception": false,
     "start_time": "2023-08-18T08:54:43.604067",
     "status": "completed"
    },
    "tags": []
   },
   "outputs": [],
   "source": [
    "# DEFINING PARAMETERS FOR HYPERTUNING\n",
    "#  param_knn = {\n",
    "#     'alpha': [0.1, 0.2, 1,2,10],\n",
    "#     'fit_prior': [True, False],\n",
    "#     'class_prior': [None, [0.3, 0.7],[0.4, 0.6]]\n",
    "# }"
   ]
  },
  {
   "cell_type": "code",
   "execution_count": 32,
   "id": "6c704cc4",
   "metadata": {
    "execution": {
     "iopub.execute_input": "2023-08-18T08:54:43.675228Z",
     "iopub.status.busy": "2023-08-18T08:54:43.674777Z",
     "iopub.status.idle": "2023-08-18T08:54:43.679401Z",
     "shell.execute_reply": "2023-08-18T08:54:43.678330Z"
    },
    "papermill": {
     "duration": 0.028517,
     "end_time": "2023-08-18T08:54:43.681947",
     "exception": false,
     "start_time": "2023-08-18T08:54:43.653430",
     "status": "completed"
    },
    "tags": []
   },
   "outputs": [],
   "source": [
    "# HYPERTUNING USING GRIDSEARCHCV\n",
    "# gscv_nb = GridSearchCV(estimator=nb, param_grid=param_knn, cv=5, scoring='accuracy',verbose=3,n_jobs=-1)"
   ]
  },
  {
   "cell_type": "code",
   "execution_count": 33,
   "id": "816ad761",
   "metadata": {
    "execution": {
     "iopub.execute_input": "2023-08-18T08:54:43.724309Z",
     "iopub.status.busy": "2023-08-18T08:54:43.723843Z",
     "iopub.status.idle": "2023-08-18T08:54:43.728517Z",
     "shell.execute_reply": "2023-08-18T08:54:43.727429Z"
    },
    "papermill": {
     "duration": 0.029088,
     "end_time": "2023-08-18T08:54:43.730971",
     "exception": false,
     "start_time": "2023-08-18T08:54:43.701883",
     "status": "completed"
    },
    "tags": []
   },
   "outputs": [],
   "source": [
    "# gscv_nb.fit(X_train, y_train)"
   ]
  },
  {
   "cell_type": "code",
   "execution_count": 34,
   "id": "c554096b",
   "metadata": {
    "execution": {
     "iopub.execute_input": "2023-08-18T08:54:43.773282Z",
     "iopub.status.busy": "2023-08-18T08:54:43.772386Z",
     "iopub.status.idle": "2023-08-18T08:54:43.777172Z",
     "shell.execute_reply": "2023-08-18T08:54:43.776001Z"
    },
    "papermill": {
     "duration": 0.028568,
     "end_time": "2023-08-18T08:54:43.779429",
     "exception": false,
     "start_time": "2023-08-18T08:54:43.750861",
     "status": "completed"
    },
    "tags": []
   },
   "outputs": [],
   "source": [
    "\n",
    "# HYPERTUNED PARAMETERS\n",
    "# gscv_nb.best_params_"
   ]
  },
  {
   "cell_type": "markdown",
   "id": "512f77b8",
   "metadata": {
    "papermill": {
     "duration": 0.019647,
     "end_time": "2023-08-18T08:54:43.819268",
     "exception": false,
     "start_time": "2023-08-18T08:54:43.799621",
     "status": "completed"
    },
    "tags": []
   },
   "source": [
    "OUTPUT : {'alpha': 0.2, 'class_prior': None, 'fit_prior': True}"
   ]
  },
  {
   "cell_type": "code",
   "execution_count": 35,
   "id": "108f67da",
   "metadata": {
    "execution": {
     "iopub.execute_input": "2023-08-18T08:54:43.861607Z",
     "iopub.status.busy": "2023-08-18T08:54:43.861167Z",
     "iopub.status.idle": "2023-08-18T08:54:43.866793Z",
     "shell.execute_reply": "2023-08-18T08:54:43.865565Z"
    },
    "papermill": {
     "duration": 0.029963,
     "end_time": "2023-08-18T08:54:43.869469",
     "exception": false,
     "start_time": "2023-08-18T08:54:43.839506",
     "status": "completed"
    },
    "tags": []
   },
   "outputs": [],
   "source": [
    "# gscv_nb.best_score_"
   ]
  },
  {
   "cell_type": "markdown",
   "id": "db4a2099",
   "metadata": {
    "papermill": {
     "duration": 0.021243,
     "end_time": "2023-08-18T08:54:43.910918",
     "exception": false,
     "start_time": "2023-08-18T08:54:43.889675",
     "status": "completed"
    },
    "tags": []
   },
   "source": [
    "OUTPUT : 0.7551203277009729"
   ]
  },
  {
   "cell_type": "code",
   "execution_count": 36,
   "id": "16ba17af",
   "metadata": {
    "execution": {
     "iopub.execute_input": "2023-08-18T08:54:43.957634Z",
     "iopub.status.busy": "2023-08-18T08:54:43.957176Z",
     "iopub.status.idle": "2023-08-18T08:54:43.961618Z",
     "shell.execute_reply": "2023-08-18T08:54:43.960722Z"
    },
    "papermill": {
     "duration": 0.03148,
     "end_time": "2023-08-18T08:54:43.963802",
     "exception": false,
     "start_time": "2023-08-18T08:54:43.932322",
     "status": "completed"
    },
    "tags": []
   },
   "outputs": [],
   "source": [
    "#INSTANTIATING NAIVE BAYES MODEL WITH HYPERTUNED PARAMETERS\n",
    "# nb = MultinomialNB(alpha=0.2,class_prior=None,fit_prior=True)"
   ]
  },
  {
   "cell_type": "code",
   "execution_count": 37,
   "id": "bcb73bb9",
   "metadata": {
    "execution": {
     "iopub.execute_input": "2023-08-18T08:54:44.005862Z",
     "iopub.status.busy": "2023-08-18T08:54:44.005402Z",
     "iopub.status.idle": "2023-08-18T08:54:44.010660Z",
     "shell.execute_reply": "2023-08-18T08:54:44.009543Z"
    },
    "papermill": {
     "duration": 0.029466,
     "end_time": "2023-08-18T08:54:44.013282",
     "exception": false,
     "start_time": "2023-08-18T08:54:43.983816",
     "status": "completed"
    },
    "tags": []
   },
   "outputs": [],
   "source": [
    "# nb.fit(X_train, y_train)"
   ]
  },
  {
   "cell_type": "code",
   "execution_count": 38,
   "id": "1400fccd",
   "metadata": {
    "execution": {
     "iopub.execute_input": "2023-08-18T08:54:44.056342Z",
     "iopub.status.busy": "2023-08-18T08:54:44.055881Z",
     "iopub.status.idle": "2023-08-18T08:54:44.060369Z",
     "shell.execute_reply": "2023-08-18T08:54:44.059287Z"
    },
    "papermill": {
     "duration": 0.028773,
     "end_time": "2023-08-18T08:54:44.062754",
     "exception": false,
     "start_time": "2023-08-18T08:54:44.033981",
     "status": "completed"
    },
    "tags": []
   },
   "outputs": [],
   "source": [
    "# nb.score(X_test,y_test)"
   ]
  },
  {
   "cell_type": "markdown",
   "id": "267432ac",
   "metadata": {
    "papermill": {
     "duration": 0.020031,
     "end_time": "2023-08-18T08:54:44.103448",
     "exception": false,
     "start_time": "2023-08-18T08:54:44.083417",
     "status": "completed"
    },
    "tags": []
   },
   "source": [
    "OUTPUT : 0.7554531490015362\n"
   ]
  },
  {
   "cell_type": "code",
   "execution_count": 39,
   "id": "38186203",
   "metadata": {
    "execution": {
     "iopub.execute_input": "2023-08-18T08:54:44.145585Z",
     "iopub.status.busy": "2023-08-18T08:54:44.145112Z",
     "iopub.status.idle": "2023-08-18T08:54:44.151085Z",
     "shell.execute_reply": "2023-08-18T08:54:44.149702Z"
    },
    "papermill": {
     "duration": 0.030021,
     "end_time": "2023-08-18T08:54:44.153601",
     "exception": false,
     "start_time": "2023-08-18T08:54:44.123580",
     "status": "completed"
    },
    "tags": []
   },
   "outputs": [],
   "source": [
    "# y_pred_nb =nb.predict(test_final)\n",
    "# y_pred_nb"
   ]
  },
  {
   "cell_type": "markdown",
   "id": "50288efc",
   "metadata": {
    "papermill": {
     "duration": 0.02031,
     "end_time": "2023-08-18T08:54:44.193916",
     "exception": false,
     "start_time": "2023-08-18T08:54:44.173606",
     "status": "completed"
    },
    "tags": []
   },
   "source": [
    "# MODEL 3 : K-NEAREST NEIGHBOUR"
   ]
  },
  {
   "cell_type": "code",
   "execution_count": 40,
   "id": "ad9406f0",
   "metadata": {
    "execution": {
     "iopub.execute_input": "2023-08-18T08:54:44.236299Z",
     "iopub.status.busy": "2023-08-18T08:54:44.235699Z",
     "iopub.status.idle": "2023-08-18T08:54:44.240829Z",
     "shell.execute_reply": "2023-08-18T08:54:44.239590Z"
    },
    "papermill": {
     "duration": 0.029269,
     "end_time": "2023-08-18T08:54:44.243289",
     "exception": false,
     "start_time": "2023-08-18T08:54:44.214020",
     "status": "completed"
    },
    "tags": []
   },
   "outputs": [],
   "source": [
    "# from sklearn.neighbors import KNeighborsClassifier\n",
    "# from sklearn.model_selection import GridSearchCV"
   ]
  },
  {
   "cell_type": "code",
   "execution_count": 41,
   "id": "a9e0db07",
   "metadata": {
    "execution": {
     "iopub.execute_input": "2023-08-18T08:54:44.285760Z",
     "iopub.status.busy": "2023-08-18T08:54:44.285355Z",
     "iopub.status.idle": "2023-08-18T08:54:44.289993Z",
     "shell.execute_reply": "2023-08-18T08:54:44.288834Z"
    },
    "papermill": {
     "duration": 0.028808,
     "end_time": "2023-08-18T08:54:44.292270",
     "exception": false,
     "start_time": "2023-08-18T08:54:44.263462",
     "status": "completed"
    },
    "tags": []
   },
   "outputs": [],
   "source": [
    "#INSTANTIATING K-NEAREST NEIGHBOUR MODEL FOR HYPERPARAMETER TUNING\n",
    "# knn = KNeighborsClassifier()"
   ]
  },
  {
   "cell_type": "code",
   "execution_count": 42,
   "id": "e18f9ee2",
   "metadata": {
    "execution": {
     "iopub.execute_input": "2023-08-18T08:54:44.335498Z",
     "iopub.status.busy": "2023-08-18T08:54:44.334614Z",
     "iopub.status.idle": "2023-08-18T08:54:44.339765Z",
     "shell.execute_reply": "2023-08-18T08:54:44.338783Z"
    },
    "papermill": {
     "duration": 0.029729,
     "end_time": "2023-08-18T08:54:44.342230",
     "exception": false,
     "start_time": "2023-08-18T08:54:44.312501",
     "status": "completed"
    },
    "tags": []
   },
   "outputs": [],
   "source": [
    "# DEFINING PARAMETERS FOR HYPERTUNING\n",
    "# param_knn = {\n",
    "#     'n_neighbors': [3, 4, 7, 9],\n",
    "#     'weights': ['uniform', 'distance'],\n",
    "#     'p': [1, 2]\n",
    "# }"
   ]
  },
  {
   "cell_type": "code",
   "execution_count": 43,
   "id": "9cfc9bf6",
   "metadata": {
    "execution": {
     "iopub.execute_input": "2023-08-18T08:54:44.385348Z",
     "iopub.status.busy": "2023-08-18T08:54:44.384882Z",
     "iopub.status.idle": "2023-08-18T08:54:44.392380Z",
     "shell.execute_reply": "2023-08-18T08:54:44.391205Z"
    },
    "papermill": {
     "duration": 0.031706,
     "end_time": "2023-08-18T08:54:44.394625",
     "exception": false,
     "start_time": "2023-08-18T08:54:44.362919",
     "status": "completed"
    },
    "tags": []
   },
   "outputs": [],
   "source": [
    "# HYPERTUNING USING GRIDSEARCHCV\n",
    "# gscv_knn = GridSearchCV(knn, param_knn, cv=5,verbose=3,n_jobs=-1)"
   ]
  },
  {
   "cell_type": "code",
   "execution_count": 44,
   "id": "9b9a9805",
   "metadata": {
    "execution": {
     "iopub.execute_input": "2023-08-18T08:54:44.437379Z",
     "iopub.status.busy": "2023-08-18T08:54:44.436304Z",
     "iopub.status.idle": "2023-08-18T08:54:44.441437Z",
     "shell.execute_reply": "2023-08-18T08:54:44.440271Z"
    },
    "papermill": {
     "duration": 0.029434,
     "end_time": "2023-08-18T08:54:44.444135",
     "exception": false,
     "start_time": "2023-08-18T08:54:44.414701",
     "status": "completed"
    },
    "tags": []
   },
   "outputs": [],
   "source": [
    "# gscv_knn.fit(X_train,y_train)"
   ]
  },
  {
   "cell_type": "code",
   "execution_count": 45,
   "id": "1dddb3c0",
   "metadata": {
    "execution": {
     "iopub.execute_input": "2023-08-18T08:54:44.486713Z",
     "iopub.status.busy": "2023-08-18T08:54:44.485878Z",
     "iopub.status.idle": "2023-08-18T08:54:44.490998Z",
     "shell.execute_reply": "2023-08-18T08:54:44.490019Z"
    },
    "papermill": {
     "duration": 0.028937,
     "end_time": "2023-08-18T08:54:44.493312",
     "exception": false,
     "start_time": "2023-08-18T08:54:44.464375",
     "status": "completed"
    },
    "tags": []
   },
   "outputs": [],
   "source": [
    "# HYPERTUNED PARAMETERS\n",
    "# gscv_knn.best_params_"
   ]
  },
  {
   "cell_type": "markdown",
   "id": "0faf1d14",
   "metadata": {
    "papermill": {
     "duration": 0.019517,
     "end_time": "2023-08-18T08:54:44.533139",
     "exception": false,
     "start_time": "2023-08-18T08:54:44.513622",
     "status": "completed"
    },
    "tags": []
   },
   "source": [
    "OUTPUT : {'n_neighbors': 4, 'weights': uniform, 'p': 2}"
   ]
  },
  {
   "cell_type": "code",
   "execution_count": 46,
   "id": "1a1f8f52",
   "metadata": {
    "execution": {
     "iopub.execute_input": "2023-08-18T08:54:44.574959Z",
     "iopub.status.busy": "2023-08-18T08:54:44.574541Z",
     "iopub.status.idle": "2023-08-18T08:54:44.579294Z",
     "shell.execute_reply": "2023-08-18T08:54:44.578124Z"
    },
    "papermill": {
     "duration": 0.028582,
     "end_time": "2023-08-18T08:54:44.581592",
     "exception": false,
     "start_time": "2023-08-18T08:54:44.553010",
     "status": "completed"
    },
    "tags": []
   },
   "outputs": [],
   "source": [
    "#INSTANTIATING K-NEAREST NEIGHBOUR MODEL WITH HYPERTUNED PARAMETERS\n",
    "# knn = KNeighborsClassifier(n_neighbors=4,weights='uniform',p=2)"
   ]
  },
  {
   "cell_type": "code",
   "execution_count": 47,
   "id": "087846ce",
   "metadata": {
    "execution": {
     "iopub.execute_input": "2023-08-18T08:54:44.624197Z",
     "iopub.status.busy": "2023-08-18T08:54:44.623733Z",
     "iopub.status.idle": "2023-08-18T08:54:44.628912Z",
     "shell.execute_reply": "2023-08-18T08:54:44.627494Z"
    },
    "papermill": {
     "duration": 0.029402,
     "end_time": "2023-08-18T08:54:44.631268",
     "exception": false,
     "start_time": "2023-08-18T08:54:44.601866",
     "status": "completed"
    },
    "tags": []
   },
   "outputs": [],
   "source": [
    "# knn.fit(X_train, y_train)"
   ]
  },
  {
   "cell_type": "code",
   "execution_count": 48,
   "id": "3d085a76",
   "metadata": {
    "execution": {
     "iopub.execute_input": "2023-08-18T08:54:44.675844Z",
     "iopub.status.busy": "2023-08-18T08:54:44.675423Z",
     "iopub.status.idle": "2023-08-18T08:54:44.680371Z",
     "shell.execute_reply": "2023-08-18T08:54:44.679053Z"
    },
    "papermill": {
     "duration": 0.029279,
     "end_time": "2023-08-18T08:54:44.682771",
     "exception": false,
     "start_time": "2023-08-18T08:54:44.653492",
     "status": "completed"
    },
    "tags": []
   },
   "outputs": [],
   "source": [
    "# knn.score(X_test,y_test)\n"
   ]
  },
  {
   "cell_type": "markdown",
   "id": "63bf9dfa",
   "metadata": {
    "papermill": {
     "duration": 0.022464,
     "end_time": "2023-08-18T08:54:44.725478",
     "exception": false,
     "start_time": "2023-08-18T08:54:44.703014",
     "status": "completed"
    },
    "tags": []
   },
   "source": [
    "OUTPUT : 0.3776112066846891"
   ]
  },
  {
   "cell_type": "code",
   "execution_count": 49,
   "id": "70c81e15",
   "metadata": {
    "execution": {
     "iopub.execute_input": "2023-08-18T08:54:44.769635Z",
     "iopub.status.busy": "2023-08-18T08:54:44.769202Z",
     "iopub.status.idle": "2023-08-18T08:54:44.773890Z",
     "shell.execute_reply": "2023-08-18T08:54:44.772736Z"
    },
    "papermill": {
     "duration": 0.029867,
     "end_time": "2023-08-18T08:54:44.776252",
     "exception": false,
     "start_time": "2023-08-18T08:54:44.746385",
     "status": "completed"
    },
    "tags": []
   },
   "outputs": [],
   "source": [
    "# y_pred_knn = knn.predict(test_final)\n",
    "# y_pred_knn"
   ]
  },
  {
   "cell_type": "markdown",
   "id": "61495378",
   "metadata": {
    "papermill": {
     "duration": 0.022074,
     "end_time": "2023-08-18T08:54:44.819711",
     "exception": false,
     "start_time": "2023-08-18T08:54:44.797637",
     "status": "completed"
    },
    "tags": []
   },
   "source": [
    "# MODEL 4 : LOGISTIC REGRESSION"
   ]
  },
  {
   "cell_type": "code",
   "execution_count": 50,
   "id": "7da2b71c",
   "metadata": {
    "execution": {
     "iopub.execute_input": "2023-08-18T08:54:44.863851Z",
     "iopub.status.busy": "2023-08-18T08:54:44.863426Z",
     "iopub.status.idle": "2023-08-18T08:54:44.985897Z",
     "shell.execute_reply": "2023-08-18T08:54:44.984359Z"
    },
    "papermill": {
     "duration": 0.149089,
     "end_time": "2023-08-18T08:54:44.989717",
     "exception": false,
     "start_time": "2023-08-18T08:54:44.840628",
     "status": "completed"
    },
    "tags": []
   },
   "outputs": [],
   "source": [
    "from sklearn.linear_model import LogisticRegression\n",
    "# from sklearn.model_selection import GridSearchCV"
   ]
  },
  {
   "cell_type": "code",
   "execution_count": 51,
   "id": "9b33beb6",
   "metadata": {
    "execution": {
     "iopub.execute_input": "2023-08-18T08:54:45.036615Z",
     "iopub.status.busy": "2023-08-18T08:54:45.035370Z",
     "iopub.status.idle": "2023-08-18T08:54:45.040322Z",
     "shell.execute_reply": "2023-08-18T08:54:45.039407Z"
    },
    "papermill": {
     "duration": 0.030305,
     "end_time": "2023-08-18T08:54:45.042872",
     "exception": false,
     "start_time": "2023-08-18T08:54:45.012567",
     "status": "completed"
    },
    "tags": []
   },
   "outputs": [],
   "source": [
    "#INSTANTIATING LOGISTIC REGRESSOR MODEL FOR HYPERPARAMETER TUNING\n",
    "# lr = LogisticRegression()"
   ]
  },
  {
   "cell_type": "code",
   "execution_count": 52,
   "id": "f703d113",
   "metadata": {
    "execution": {
     "iopub.execute_input": "2023-08-18T08:54:45.086441Z",
     "iopub.status.busy": "2023-08-18T08:54:45.085555Z",
     "iopub.status.idle": "2023-08-18T08:54:45.090205Z",
     "shell.execute_reply": "2023-08-18T08:54:45.089366Z"
    },
    "papermill": {
     "duration": 0.028846,
     "end_time": "2023-08-18T08:54:45.092508",
     "exception": false,
     "start_time": "2023-08-18T08:54:45.063662",
     "status": "completed"
    },
    "tags": []
   },
   "outputs": [],
   "source": [
    "# DEFINING PARAMETERS FOR HYPERTUNING\n",
    "# param_lr = {\n",
    "#     'C': [0.01, 0.1, 1, 100, 1000], \n",
    "#     'penalty': ['l1', 'l2'],         \n",
    "#     'solver': ['liblinear', 'saga']  \n",
    "# }"
   ]
  },
  {
   "cell_type": "code",
   "execution_count": 53,
   "id": "eab22943",
   "metadata": {
    "execution": {
     "iopub.execute_input": "2023-08-18T08:54:45.136142Z",
     "iopub.status.busy": "2023-08-18T08:54:45.135280Z",
     "iopub.status.idle": "2023-08-18T08:54:45.139762Z",
     "shell.execute_reply": "2023-08-18T08:54:45.138888Z"
    },
    "papermill": {
     "duration": 0.028433,
     "end_time": "2023-08-18T08:54:45.142022",
     "exception": false,
     "start_time": "2023-08-18T08:54:45.113589",
     "status": "completed"
    },
    "tags": []
   },
   "outputs": [],
   "source": [
    "# HYPERTUNING USING GRIDSEARCHCV\n",
    "# gscv_lr = GridSearchCV(estimator=lr, param_grid=param_lr, cv=5, scoring='accuracy',verbose=3,n_jobs=-1)"
   ]
  },
  {
   "cell_type": "code",
   "execution_count": 54,
   "id": "3e8000fc",
   "metadata": {
    "execution": {
     "iopub.execute_input": "2023-08-18T08:54:45.184284Z",
     "iopub.status.busy": "2023-08-18T08:54:45.183778Z",
     "iopub.status.idle": "2023-08-18T08:54:45.188674Z",
     "shell.execute_reply": "2023-08-18T08:54:45.187381Z"
    },
    "papermill": {
     "duration": 0.02875,
     "end_time": "2023-08-18T08:54:45.190976",
     "exception": false,
     "start_time": "2023-08-18T08:54:45.162226",
     "status": "completed"
    },
    "tags": []
   },
   "outputs": [],
   "source": [
    "# gscv_lr.fit(X_train, y_train)"
   ]
  },
  {
   "cell_type": "code",
   "execution_count": 55,
   "id": "879c7241",
   "metadata": {
    "execution": {
     "iopub.execute_input": "2023-08-18T08:54:45.234177Z",
     "iopub.status.busy": "2023-08-18T08:54:45.233438Z",
     "iopub.status.idle": "2023-08-18T08:54:45.237565Z",
     "shell.execute_reply": "2023-08-18T08:54:45.236645Z"
    },
    "papermill": {
     "duration": 0.028352,
     "end_time": "2023-08-18T08:54:45.239763",
     "exception": false,
     "start_time": "2023-08-18T08:54:45.211411",
     "status": "completed"
    },
    "tags": []
   },
   "outputs": [],
   "source": [
    "# HYPERTUNED PARAMETERS\n",
    "# gscv_lr.best_params_"
   ]
  },
  {
   "cell_type": "code",
   "execution_count": 56,
   "id": "136380af",
   "metadata": {
    "execution": {
     "iopub.execute_input": "2023-08-18T08:54:45.282967Z",
     "iopub.status.busy": "2023-08-18T08:54:45.282247Z",
     "iopub.status.idle": "2023-08-18T08:54:45.286519Z",
     "shell.execute_reply": "2023-08-18T08:54:45.285408Z"
    },
    "papermill": {
     "duration": 0.028981,
     "end_time": "2023-08-18T08:54:45.289080",
     "exception": false,
     "start_time": "2023-08-18T08:54:45.260099",
     "status": "completed"
    },
    "tags": []
   },
   "outputs": [],
   "source": [
    "#INSTANTIATING LOGISTIC REGRESSION MODEL WITH HYPERTUNED PARAMETERS\n",
    "# lr = LogisticRegression(max_iter=1000,C=1.0,penalty='l2',solver='lbfgs')"
   ]
  },
  {
   "cell_type": "code",
   "execution_count": 57,
   "id": "7fc390b9",
   "metadata": {
    "execution": {
     "iopub.execute_input": "2023-08-18T08:54:45.333603Z",
     "iopub.status.busy": "2023-08-18T08:54:45.332293Z",
     "iopub.status.idle": "2023-08-18T08:54:45.337614Z",
     "shell.execute_reply": "2023-08-18T08:54:45.336712Z"
    },
    "papermill": {
     "duration": 0.029857,
     "end_time": "2023-08-18T08:54:45.339974",
     "exception": false,
     "start_time": "2023-08-18T08:54:45.310117",
     "status": "completed"
    },
    "tags": []
   },
   "outputs": [],
   "source": [
    "# lr.fit(X_train,y_train)"
   ]
  },
  {
   "cell_type": "code",
   "execution_count": 58,
   "id": "e85bc31b",
   "metadata": {
    "execution": {
     "iopub.execute_input": "2023-08-18T08:54:45.383931Z",
     "iopub.status.busy": "2023-08-18T08:54:45.382799Z",
     "iopub.status.idle": "2023-08-18T08:54:45.387783Z",
     "shell.execute_reply": "2023-08-18T08:54:45.386715Z"
    },
    "papermill": {
     "duration": 0.029029,
     "end_time": "2023-08-18T08:54:45.390088",
     "exception": false,
     "start_time": "2023-08-18T08:54:45.361059",
     "status": "completed"
    },
    "tags": []
   },
   "outputs": [],
   "source": [
    "# lr.score(X_test,y_test)"
   ]
  },
  {
   "cell_type": "markdown",
   "id": "1af0d321",
   "metadata": {
    "papermill": {
     "duration": 0.020901,
     "end_time": "2023-08-18T08:54:45.432003",
     "exception": false,
     "start_time": "2023-08-18T08:54:45.411102",
     "status": "completed"
    },
    "tags": []
   },
   "source": [
    "OUTPUT : 0.7910727451462276"
   ]
  },
  {
   "cell_type": "code",
   "execution_count": 59,
   "id": "7c1aa98f",
   "metadata": {
    "execution": {
     "iopub.execute_input": "2023-08-18T08:54:45.474701Z",
     "iopub.status.busy": "2023-08-18T08:54:45.474198Z",
     "iopub.status.idle": "2023-08-18T08:54:45.479415Z",
     "shell.execute_reply": "2023-08-18T08:54:45.478352Z"
    },
    "papermill": {
     "duration": 0.029542,
     "end_time": "2023-08-18T08:54:45.481698",
     "exception": false,
     "start_time": "2023-08-18T08:54:45.452156",
     "status": "completed"
    },
    "tags": []
   },
   "outputs": [],
   "source": [
    "# y_pred_lr = lr.predict(test_final)\n",
    "# y_pred_lr"
   ]
  },
  {
   "cell_type": "markdown",
   "id": "39581d0c",
   "metadata": {
    "papermill": {
     "duration": 0.019804,
     "end_time": "2023-08-18T08:54:45.521833",
     "exception": false,
     "start_time": "2023-08-18T08:54:45.502029",
     "status": "completed"
    },
    "tags": []
   },
   "source": [
    "# MODEL 5 : SUPPORT VECTOR MACHINE"
   ]
  },
  {
   "cell_type": "code",
   "execution_count": 60,
   "id": "bdd8e2a3",
   "metadata": {
    "execution": {
     "iopub.execute_input": "2023-08-18T08:54:45.565339Z",
     "iopub.status.busy": "2023-08-18T08:54:45.564830Z",
     "iopub.status.idle": "2023-08-18T08:54:45.569369Z",
     "shell.execute_reply": "2023-08-18T08:54:45.568464Z"
    },
    "papermill": {
     "duration": 0.02916,
     "end_time": "2023-08-18T08:54:45.571443",
     "exception": false,
     "start_time": "2023-08-18T08:54:45.542283",
     "status": "completed"
    },
    "tags": []
   },
   "outputs": [],
   "source": [
    "from sklearn.svm import LinearSVC\n",
    "# from sklearn.model_selection import GridSearchCV"
   ]
  },
  {
   "cell_type": "code",
   "execution_count": 61,
   "id": "691c9a16",
   "metadata": {
    "execution": {
     "iopub.execute_input": "2023-08-18T08:54:45.614464Z",
     "iopub.status.busy": "2023-08-18T08:54:45.613982Z",
     "iopub.status.idle": "2023-08-18T08:54:45.618431Z",
     "shell.execute_reply": "2023-08-18T08:54:45.617357Z"
    },
    "papermill": {
     "duration": 0.028631,
     "end_time": "2023-08-18T08:54:45.620406",
     "exception": false,
     "start_time": "2023-08-18T08:54:45.591775",
     "status": "completed"
    },
    "tags": []
   },
   "outputs": [],
   "source": [
    "#INSTANTIATING LINEAR SUPPORT VECTOR MACHINE MODEL FOR HYPERPARAMETER TUNING\n",
    "# svm = LinearSVC()"
   ]
  },
  {
   "cell_type": "code",
   "execution_count": 62,
   "id": "4a39fbe8",
   "metadata": {
    "execution": {
     "iopub.execute_input": "2023-08-18T08:54:45.663205Z",
     "iopub.status.busy": "2023-08-18T08:54:45.662408Z",
     "iopub.status.idle": "2023-08-18T08:54:45.666764Z",
     "shell.execute_reply": "2023-08-18T08:54:45.665894Z"
    },
    "papermill": {
     "duration": 0.028361,
     "end_time": "2023-08-18T08:54:45.668980",
     "exception": false,
     "start_time": "2023-08-18T08:54:45.640619",
     "status": "completed"
    },
    "tags": []
   },
   "outputs": [],
   "source": [
    "# DEFINING PARAMETERS FOR HYPERTUNING\n",
    "# param_svm = {\n",
    "#     'C': [0.001, 0.01, 0.1, 1, 10, 100],\n",
    "#     'max_iter': [100, 500, 1000,5000]\n",
    "# }"
   ]
  },
  {
   "cell_type": "code",
   "execution_count": 63,
   "id": "8ee22498",
   "metadata": {
    "execution": {
     "iopub.execute_input": "2023-08-18T08:54:45.712231Z",
     "iopub.status.busy": "2023-08-18T08:54:45.711299Z",
     "iopub.status.idle": "2023-08-18T08:54:45.716030Z",
     "shell.execute_reply": "2023-08-18T08:54:45.715002Z"
    },
    "papermill": {
     "duration": 0.029173,
     "end_time": "2023-08-18T08:54:45.718590",
     "exception": false,
     "start_time": "2023-08-18T08:54:45.689417",
     "status": "completed"
    },
    "tags": []
   },
   "outputs": [],
   "source": [
    "# HYPERTUNING USING GRIDSEARCHCV\n",
    "# gscv_svm = GridSearchCV(svm, param_svm, cv=5, scoring='accuracy',verbose=3, n_jobs=-1)"
   ]
  },
  {
   "cell_type": "code",
   "execution_count": 64,
   "id": "c033a820",
   "metadata": {
    "execution": {
     "iopub.execute_input": "2023-08-18T08:54:45.761021Z",
     "iopub.status.busy": "2023-08-18T08:54:45.760539Z",
     "iopub.status.idle": "2023-08-18T08:54:45.765711Z",
     "shell.execute_reply": "2023-08-18T08:54:45.764633Z"
    },
    "papermill": {
     "duration": 0.029097,
     "end_time": "2023-08-18T08:54:45.767994",
     "exception": false,
     "start_time": "2023-08-18T08:54:45.738897",
     "status": "completed"
    },
    "tags": []
   },
   "outputs": [],
   "source": [
    "# gscv_svm.fit(X_train, y_train)"
   ]
  },
  {
   "cell_type": "code",
   "execution_count": 65,
   "id": "9b4f66fc",
   "metadata": {
    "execution": {
     "iopub.execute_input": "2023-08-18T08:54:45.812337Z",
     "iopub.status.busy": "2023-08-18T08:54:45.810858Z",
     "iopub.status.idle": "2023-08-18T08:54:45.816160Z",
     "shell.execute_reply": "2023-08-18T08:54:45.815056Z"
    },
    "papermill": {
     "duration": 0.029386,
     "end_time": "2023-08-18T08:54:45.818447",
     "exception": false,
     "start_time": "2023-08-18T08:54:45.789061",
     "status": "completed"
    },
    "tags": []
   },
   "outputs": [],
   "source": [
    "# HYPERTUNED PARAMETERS\n",
    "# gscv_svm.best_params_"
   ]
  },
  {
   "cell_type": "markdown",
   "id": "dd47d3be",
   "metadata": {
    "papermill": {
     "duration": 0.019976,
     "end_time": "2023-08-18T08:54:45.859402",
     "exception": false,
     "start_time": "2023-08-18T08:54:45.839426",
     "status": "completed"
    },
    "tags": []
   },
   "source": [
    "OUTPUT : {'C': 0.1, 'max_iter': 100}"
   ]
  },
  {
   "cell_type": "code",
   "execution_count": 66,
   "id": "9b051948",
   "metadata": {
    "execution": {
     "iopub.execute_input": "2023-08-18T08:54:45.902134Z",
     "iopub.status.busy": "2023-08-18T08:54:45.901127Z",
     "iopub.status.idle": "2023-08-18T08:54:45.905961Z",
     "shell.execute_reply": "2023-08-18T08:54:45.905127Z"
    },
    "papermill": {
     "duration": 0.028722,
     "end_time": "2023-08-18T08:54:45.908143",
     "exception": false,
     "start_time": "2023-08-18T08:54:45.879421",
     "status": "completed"
    },
    "tags": []
   },
   "outputs": [],
   "source": [
    "# gscv_svm.best_score_"
   ]
  },
  {
   "cell_type": "markdown",
   "id": "c5cb7aa5",
   "metadata": {
    "papermill": {
     "duration": 0.020533,
     "end_time": "2023-08-18T08:54:45.950500",
     "exception": false,
     "start_time": "2023-08-18T08:54:45.929967",
     "status": "completed"
    },
    "tags": []
   },
   "source": [
    "OUTPUT : 0.7884583048121516\n"
   ]
  },
  {
   "cell_type": "code",
   "execution_count": 67,
   "id": "6ebd7511",
   "metadata": {
    "execution": {
     "iopub.execute_input": "2023-08-18T08:54:45.995052Z",
     "iopub.status.busy": "2023-08-18T08:54:45.994528Z",
     "iopub.status.idle": "2023-08-18T08:54:46.000244Z",
     "shell.execute_reply": "2023-08-18T08:54:45.999025Z"
    },
    "papermill": {
     "duration": 0.030385,
     "end_time": "2023-08-18T08:54:46.002661",
     "exception": false,
     "start_time": "2023-08-18T08:54:45.972276",
     "status": "completed"
    },
    "tags": []
   },
   "outputs": [],
   "source": [
    "# INSTANTIATING LINEAR SUPPORT VECTOR MACHINE MODEL WITH HYPERTUNED PARAMETERS\n",
    "svm = LinearSVC(C=0.1,max_iter=100)"
   ]
  },
  {
   "cell_type": "code",
   "execution_count": 68,
   "id": "ce581d93",
   "metadata": {
    "execution": {
     "iopub.execute_input": "2023-08-18T08:54:46.045919Z",
     "iopub.status.busy": "2023-08-18T08:54:46.045430Z",
     "iopub.status.idle": "2023-08-18T08:54:47.028371Z",
     "shell.execute_reply": "2023-08-18T08:54:47.027142Z"
    },
    "papermill": {
     "duration": 1.007883,
     "end_time": "2023-08-18T08:54:47.031050",
     "exception": false,
     "start_time": "2023-08-18T08:54:46.023167",
     "status": "completed"
    },
    "tags": []
   },
   "outputs": [
    {
     "data": {
      "text/html": [
       "<style>#sk-container-id-1 {color: black;background-color: white;}#sk-container-id-1 pre{padding: 0;}#sk-container-id-1 div.sk-toggleable {background-color: white;}#sk-container-id-1 label.sk-toggleable__label {cursor: pointer;display: block;width: 100%;margin-bottom: 0;padding: 0.3em;box-sizing: border-box;text-align: center;}#sk-container-id-1 label.sk-toggleable__label-arrow:before {content: \"▸\";float: left;margin-right: 0.25em;color: #696969;}#sk-container-id-1 label.sk-toggleable__label-arrow:hover:before {color: black;}#sk-container-id-1 div.sk-estimator:hover label.sk-toggleable__label-arrow:before {color: black;}#sk-container-id-1 div.sk-toggleable__content {max-height: 0;max-width: 0;overflow: hidden;text-align: left;background-color: #f0f8ff;}#sk-container-id-1 div.sk-toggleable__content pre {margin: 0.2em;color: black;border-radius: 0.25em;background-color: #f0f8ff;}#sk-container-id-1 input.sk-toggleable__control:checked~div.sk-toggleable__content {max-height: 200px;max-width: 100%;overflow: auto;}#sk-container-id-1 input.sk-toggleable__control:checked~label.sk-toggleable__label-arrow:before {content: \"▾\";}#sk-container-id-1 div.sk-estimator input.sk-toggleable__control:checked~label.sk-toggleable__label {background-color: #d4ebff;}#sk-container-id-1 div.sk-label input.sk-toggleable__control:checked~label.sk-toggleable__label {background-color: #d4ebff;}#sk-container-id-1 input.sk-hidden--visually {border: 0;clip: rect(1px 1px 1px 1px);clip: rect(1px, 1px, 1px, 1px);height: 1px;margin: -1px;overflow: hidden;padding: 0;position: absolute;width: 1px;}#sk-container-id-1 div.sk-estimator {font-family: monospace;background-color: #f0f8ff;border: 1px dotted black;border-radius: 0.25em;box-sizing: border-box;margin-bottom: 0.5em;}#sk-container-id-1 div.sk-estimator:hover {background-color: #d4ebff;}#sk-container-id-1 div.sk-parallel-item::after {content: \"\";width: 100%;border-bottom: 1px solid gray;flex-grow: 1;}#sk-container-id-1 div.sk-label:hover label.sk-toggleable__label {background-color: #d4ebff;}#sk-container-id-1 div.sk-serial::before {content: \"\";position: absolute;border-left: 1px solid gray;box-sizing: border-box;top: 0;bottom: 0;left: 50%;z-index: 0;}#sk-container-id-1 div.sk-serial {display: flex;flex-direction: column;align-items: center;background-color: white;padding-right: 0.2em;padding-left: 0.2em;position: relative;}#sk-container-id-1 div.sk-item {position: relative;z-index: 1;}#sk-container-id-1 div.sk-parallel {display: flex;align-items: stretch;justify-content: center;background-color: white;position: relative;}#sk-container-id-1 div.sk-item::before, #sk-container-id-1 div.sk-parallel-item::before {content: \"\";position: absolute;border-left: 1px solid gray;box-sizing: border-box;top: 0;bottom: 0;left: 50%;z-index: -1;}#sk-container-id-1 div.sk-parallel-item {display: flex;flex-direction: column;z-index: 1;position: relative;background-color: white;}#sk-container-id-1 div.sk-parallel-item:first-child::after {align-self: flex-end;width: 50%;}#sk-container-id-1 div.sk-parallel-item:last-child::after {align-self: flex-start;width: 50%;}#sk-container-id-1 div.sk-parallel-item:only-child::after {width: 0;}#sk-container-id-1 div.sk-dashed-wrapped {border: 1px dashed gray;margin: 0 0.4em 0.5em 0.4em;box-sizing: border-box;padding-bottom: 0.4em;background-color: white;}#sk-container-id-1 div.sk-label label {font-family: monospace;font-weight: bold;display: inline-block;line-height: 1.2em;}#sk-container-id-1 div.sk-label-container {text-align: center;}#sk-container-id-1 div.sk-container {/* jupyter's `normalize.less` sets `[hidden] { display: none; }` but bootstrap.min.css set `[hidden] { display: none !important; }` so we also need the `!important` here to be able to override the default hidden behavior on the sphinx rendered scikit-learn.org. See: https://github.com/scikit-learn/scikit-learn/issues/21755 */display: inline-block !important;position: relative;}#sk-container-id-1 div.sk-text-repr-fallback {display: none;}</style><div id=\"sk-container-id-1\" class=\"sk-top-container\"><div class=\"sk-text-repr-fallback\"><pre>LinearSVC(C=0.1, max_iter=100)</pre><b>In a Jupyter environment, please rerun this cell to show the HTML representation or trust the notebook. <br />On GitHub, the HTML representation is unable to render, please try loading this page with nbviewer.org.</b></div><div class=\"sk-container\" hidden><div class=\"sk-item\"><div class=\"sk-estimator sk-toggleable\"><input class=\"sk-toggleable__control sk-hidden--visually\" id=\"sk-estimator-id-1\" type=\"checkbox\" checked><label for=\"sk-estimator-id-1\" class=\"sk-toggleable__label sk-toggleable__label-arrow\">LinearSVC</label><div class=\"sk-toggleable__content\"><pre>LinearSVC(C=0.1, max_iter=100)</pre></div></div></div></div></div>"
      ],
      "text/plain": [
       "LinearSVC(C=0.1, max_iter=100)"
      ]
     },
     "execution_count": 68,
     "metadata": {},
     "output_type": "execute_result"
    }
   ],
   "source": [
    "svm.fit(X_train,y_train)"
   ]
  },
  {
   "cell_type": "code",
   "execution_count": 69,
   "id": "599f5a24",
   "metadata": {
    "execution": {
     "iopub.execute_input": "2023-08-18T08:54:47.075530Z",
     "iopub.status.busy": "2023-08-18T08:54:47.074334Z",
     "iopub.status.idle": "2023-08-18T08:54:47.089499Z",
     "shell.execute_reply": "2023-08-18T08:54:47.088455Z"
    },
    "papermill": {
     "duration": 0.040803,
     "end_time": "2023-08-18T08:54:47.092729",
     "exception": false,
     "start_time": "2023-08-18T08:54:47.051926",
     "status": "completed"
    },
    "tags": []
   },
   "outputs": [
    {
     "data": {
      "text/plain": [
       "0.7911341853035144"
      ]
     },
     "execution_count": 69,
     "metadata": {},
     "output_type": "execute_result"
    }
   ],
   "source": [
    "svm.score(X_test,y_test)"
   ]
  },
  {
   "cell_type": "code",
   "execution_count": 70,
   "id": "c1648239",
   "metadata": {
    "execution": {
     "iopub.execute_input": "2023-08-18T08:54:47.137915Z",
     "iopub.status.busy": "2023-08-18T08:54:47.137199Z",
     "iopub.status.idle": "2023-08-18T08:54:47.148362Z",
     "shell.execute_reply": "2023-08-18T08:54:47.147116Z"
    },
    "papermill": {
     "duration": 0.036853,
     "end_time": "2023-08-18T08:54:47.150813",
     "exception": false,
     "start_time": "2023-08-18T08:54:47.113960",
     "status": "completed"
    },
    "tags": []
   },
   "outputs": [
    {
     "data": {
      "text/plain": [
       "array([1, 1, 1, ..., 0, 1, 0])"
      ]
     },
     "execution_count": 70,
     "metadata": {},
     "output_type": "execute_result"
    }
   ],
   "source": [
    "y_pred_svm = svm.predict(test_final)\n",
    "y_pred_svm"
   ]
  },
  {
   "cell_type": "markdown",
   "id": "2785e990",
   "metadata": {
    "papermill": {
     "duration": 0.021566,
     "end_time": "2023-08-18T08:54:47.193244",
     "exception": false,
     "start_time": "2023-08-18T08:54:47.171678",
     "status": "completed"
    },
    "tags": []
   },
   "source": [
    "OUTPUT : 0.7911341853035144"
   ]
  },
  {
   "cell_type": "markdown",
   "id": "3b198382",
   "metadata": {
    "papermill": {
     "duration": 0.021256,
     "end_time": "2023-08-18T08:54:47.237423",
     "exception": false,
     "start_time": "2023-08-18T08:54:47.216167",
     "status": "completed"
    },
    "tags": []
   },
   "source": [
    "# SUBMISSION"
   ]
  },
  {
   "cell_type": "code",
   "execution_count": 71,
   "id": "973cd0fb",
   "metadata": {
    "execution": {
     "iopub.execute_input": "2023-08-18T08:54:47.283185Z",
     "iopub.status.busy": "2023-08-18T08:54:47.282380Z",
     "iopub.status.idle": "2023-08-18T08:54:47.287775Z",
     "shell.execute_reply": "2023-08-18T08:54:47.286867Z"
    },
    "papermill": {
     "duration": 0.030966,
     "end_time": "2023-08-18T08:54:47.290432",
     "exception": false,
     "start_time": "2023-08-18T08:54:47.259466",
     "status": "completed"
    },
    "tags": []
   },
   "outputs": [],
   "source": [
    "# SELECTING THE MODEL WE ARE SUBMITTING\n",
    "\n",
    "# y_pred_final = y_pred_dummy\n",
    "# y_pred_final = y_pred_nb\n",
    "# y_pred_final = y_pred_knn\n",
    "# y_pred_final = y_pred_lr\n",
    "y_pred_final = y_pred_svm"
   ]
  },
  {
   "cell_type": "code",
   "execution_count": 72,
   "id": "c39635a3",
   "metadata": {
    "execution": {
     "iopub.execute_input": "2023-08-18T08:54:47.338922Z",
     "iopub.status.busy": "2023-08-18T08:54:47.338189Z",
     "iopub.status.idle": "2023-08-18T08:54:47.348248Z",
     "shell.execute_reply": "2023-08-18T08:54:47.346927Z"
    },
    "papermill": {
     "duration": 0.038312,
     "end_time": "2023-08-18T08:54:47.351609",
     "exception": false,
     "start_time": "2023-08-18T08:54:47.313297",
     "status": "completed"
    },
    "tags": []
   },
   "outputs": [
    {
     "data": {
      "text/plain": [
       "array(['POSITIVE', 'POSITIVE', 'POSITIVE', ..., 'NEGATIVE', 'POSITIVE',\n",
       "       'NEGATIVE'], dtype='<U8')"
      ]
     },
     "execution_count": 72,
     "metadata": {},
     "output_type": "execute_result"
    }
   ],
   "source": [
    "#CONVERTING ENCODED LABELS BACK TO ORIGINAL\n",
    "submission = np.where(y_pred_final == 1, \"POSITIVE\", \"NEGATIVE\")\n",
    "submission"
   ]
  },
  {
   "cell_type": "code",
   "execution_count": 73,
   "id": "d32e9dee",
   "metadata": {
    "execution": {
     "iopub.execute_input": "2023-08-18T08:54:47.396297Z",
     "iopub.status.busy": "2023-08-18T08:54:47.395820Z",
     "iopub.status.idle": "2023-08-18T08:54:47.524869Z",
     "shell.execute_reply": "2023-08-18T08:54:47.523437Z"
    },
    "papermill": {
     "duration": 0.155351,
     "end_time": "2023-08-18T08:54:47.528228",
     "exception": false,
     "start_time": "2023-08-18T08:54:47.372877",
     "status": "completed"
    },
    "tags": []
   },
   "outputs": [],
   "source": [
    "# CREATING OUTPUT FILE\n",
    "sub = pd.DataFrame(submission, columns=['sentiment'])\n",
    "sub.index.name = 'id'\n",
    "sub.to_csv(\"submission.csv\", encoding='utf-8')\n",
    "\n",
    "result = pd.read_csv(\"submission.csv\")"
   ]
  },
  {
   "cell_type": "code",
   "execution_count": 74,
   "id": "c7f7dd69",
   "metadata": {
    "execution": {
     "iopub.execute_input": "2023-08-18T08:54:47.573810Z",
     "iopub.status.busy": "2023-08-18T08:54:47.572569Z",
     "iopub.status.idle": "2023-08-18T08:54:47.585286Z",
     "shell.execute_reply": "2023-08-18T08:54:47.584024Z"
    },
    "papermill": {
     "duration": 0.03767,
     "end_time": "2023-08-18T08:54:47.587922",
     "exception": false,
     "start_time": "2023-08-18T08:54:47.550252",
     "status": "completed"
    },
    "tags": []
   },
   "outputs": [
    {
     "data": {
      "text/html": [
       "<div>\n",
       "<style scoped>\n",
       "    .dataframe tbody tr th:only-of-type {\n",
       "        vertical-align: middle;\n",
       "    }\n",
       "\n",
       "    .dataframe tbody tr th {\n",
       "        vertical-align: top;\n",
       "    }\n",
       "\n",
       "    .dataframe thead th {\n",
       "        text-align: right;\n",
       "    }\n",
       "</style>\n",
       "<table border=\"1\" class=\"dataframe\">\n",
       "  <thead>\n",
       "    <tr style=\"text-align: right;\">\n",
       "      <th></th>\n",
       "      <th>id</th>\n",
       "      <th>sentiment</th>\n",
       "    </tr>\n",
       "  </thead>\n",
       "  <tbody>\n",
       "    <tr>\n",
       "      <th>0</th>\n",
       "      <td>0</td>\n",
       "      <td>POSITIVE</td>\n",
       "    </tr>\n",
       "    <tr>\n",
       "      <th>1</th>\n",
       "      <td>1</td>\n",
       "      <td>POSITIVE</td>\n",
       "    </tr>\n",
       "    <tr>\n",
       "      <th>2</th>\n",
       "      <td>2</td>\n",
       "      <td>POSITIVE</td>\n",
       "    </tr>\n",
       "    <tr>\n",
       "      <th>3</th>\n",
       "      <td>3</td>\n",
       "      <td>POSITIVE</td>\n",
       "    </tr>\n",
       "    <tr>\n",
       "      <th>4</th>\n",
       "      <td>4</td>\n",
       "      <td>POSITIVE</td>\n",
       "    </tr>\n",
       "    <tr>\n",
       "      <th>...</th>\n",
       "      <td>...</td>\n",
       "      <td>...</td>\n",
       "    </tr>\n",
       "    <tr>\n",
       "      <th>55310</th>\n",
       "      <td>55310</td>\n",
       "      <td>POSITIVE</td>\n",
       "    </tr>\n",
       "    <tr>\n",
       "      <th>55311</th>\n",
       "      <td>55311</td>\n",
       "      <td>NEGATIVE</td>\n",
       "    </tr>\n",
       "    <tr>\n",
       "      <th>55312</th>\n",
       "      <td>55312</td>\n",
       "      <td>NEGATIVE</td>\n",
       "    </tr>\n",
       "    <tr>\n",
       "      <th>55313</th>\n",
       "      <td>55313</td>\n",
       "      <td>POSITIVE</td>\n",
       "    </tr>\n",
       "    <tr>\n",
       "      <th>55314</th>\n",
       "      <td>55314</td>\n",
       "      <td>NEGATIVE</td>\n",
       "    </tr>\n",
       "  </tbody>\n",
       "</table>\n",
       "<p>55315 rows × 2 columns</p>\n",
       "</div>"
      ],
      "text/plain": [
       "          id sentiment\n",
       "0          0  POSITIVE\n",
       "1          1  POSITIVE\n",
       "2          2  POSITIVE\n",
       "3          3  POSITIVE\n",
       "4          4  POSITIVE\n",
       "...      ...       ...\n",
       "55310  55310  POSITIVE\n",
       "55311  55311  NEGATIVE\n",
       "55312  55312  NEGATIVE\n",
       "55313  55313  POSITIVE\n",
       "55314  55314  NEGATIVE\n",
       "\n",
       "[55315 rows x 2 columns]"
      ]
     },
     "execution_count": 74,
     "metadata": {},
     "output_type": "execute_result"
    }
   ],
   "source": [
    "#FINAL RESULT\n",
    "result"
   ]
  }
 ],
 "metadata": {
  "kernelspec": {
   "display_name": "Python 3",
   "language": "python",
   "name": "python3"
  },
  "language_info": {
   "codemirror_mode": {
    "name": "ipython",
    "version": 3
   },
   "file_extension": ".py",
   "mimetype": "text/x-python",
   "name": "python",
   "nbconvert_exporter": "python",
   "pygments_lexer": "ipython3",
   "version": "3.10.10"
  },
  "papermill": {
   "default_parameters": {},
   "duration": 31.400755,
   "end_time": "2023-08-18T08:54:49.919085",
   "environment_variables": {},
   "exception": null,
   "input_path": "__notebook__.ipynb",
   "output_path": "__notebook__.ipynb",
   "parameters": {},
   "start_time": "2023-08-18T08:54:18.518330",
   "version": "2.4.0"
  }
 },
 "nbformat": 4,
 "nbformat_minor": 5
}
